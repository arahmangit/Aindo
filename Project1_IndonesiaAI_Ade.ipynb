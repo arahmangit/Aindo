{
 "cells": [
  {
   "cell_type": "markdown",
   "metadata": {
    "id": "MxHJNxbTfLqf"
   },
   "source": [
    "### Unzip"
   ]
  },
  {
   "cell_type": "code",
   "execution_count": 7,
   "metadata": {
    "colab": {
     "base_uri": "https://localhost:8080/"
    },
    "id": "OXkxJVFeeRv7",
    "outputId": "a1de86a1-e663-45b2-fe43-5bf3f2ebf848"
   },
   "outputs": [],
   "source": [
    "# from google.colab import drive\n",
    "# drive.mount('/content/MyDrive')"
   ]
  },
  {
   "cell_type": "code",
   "execution_count": 8,
   "metadata": {
    "id": "ud8sQldseVLg"
   },
   "outputs": [],
   "source": [
    "# import zipfile\n",
    "\n",
    "# zip_ref = zipfile.ZipFile(\"/content/MyDrive/MyDrive/iai/Images-20240617T054507Z-001.zip\", 'r')\n",
    "# zip_ref.extractall(\"/content/MyDrive/MyDrive/iai/images\")\n",
    "# zip_ref.close()"
   ]
  },
  {
   "cell_type": "markdown",
   "metadata": {
    "id": "ATx3xOmmfPX0"
   },
   "source": [
    "### Penyesuaian data gambar dan tabular"
   ]
  },
  {
   "cell_type": "code",
   "execution_count": 1,
   "metadata": {},
   "outputs": [
    {
     "name": "stderr",
     "output_type": "stream",
     "text": [
      "2024-06-23 15:57:14.647262: I tensorflow/core/util/port.cc:111] oneDNN custom operations are on. You may see slightly different numerical results due to floating-point round-off errors from different computation orders. To turn them off, set the environment variable `TF_ENABLE_ONEDNN_OPTS=0`.\n",
      "2024-06-23 15:57:14.934197: E tensorflow/compiler/xla/stream_executor/cuda/cuda_dnn.cc:9342] Unable to register cuDNN factory: Attempting to register factory for plugin cuDNN when one has already been registered\n",
      "2024-06-23 15:57:14.934219: E tensorflow/compiler/xla/stream_executor/cuda/cuda_fft.cc:609] Unable to register cuFFT factory: Attempting to register factory for plugin cuFFT when one has already been registered\n",
      "2024-06-23 15:57:14.934623: E tensorflow/compiler/xla/stream_executor/cuda/cuda_blas.cc:1518] Unable to register cuBLAS factory: Attempting to register factory for plugin cuBLAS when one has already been registered\n",
      "2024-06-23 15:57:15.039500: I tensorflow/core/platform/cpu_feature_guard.cc:182] This TensorFlow binary is optimized to use available CPU instructions in performance-critical operations.\n",
      "To enable the following instructions: AVX2 AVX_VNNI FMA, in other operations, rebuild TensorFlow with the appropriate compiler flags.\n"
     ]
    },
    {
     "name": "stdout",
     "output_type": "stream",
     "text": [
      "/device:GPU:0\n",
      "[PhysicalDevice(name='/physical_device:GPU:0', device_type='GPU')]\n"
     ]
    },
    {
     "name": "stderr",
     "output_type": "stream",
     "text": [
      "2024-06-23 15:57:17.677063: I tensorflow/compiler/xla/stream_executor/cuda/cuda_gpu_executor.cc:880] could not open file to read NUMA node: /sys/bus/pci/devices/0000:01:00.0/numa_node\n",
      "Your kernel may have been built without NUMA support.\n",
      "2024-06-23 15:57:17.701297: I tensorflow/compiler/xla/stream_executor/cuda/cuda_gpu_executor.cc:880] could not open file to read NUMA node: /sys/bus/pci/devices/0000:01:00.0/numa_node\n",
      "Your kernel may have been built without NUMA support.\n",
      "2024-06-23 15:57:17.701324: I tensorflow/compiler/xla/stream_executor/cuda/cuda_gpu_executor.cc:880] could not open file to read NUMA node: /sys/bus/pci/devices/0000:01:00.0/numa_node\n",
      "Your kernel may have been built without NUMA support.\n",
      "2024-06-23 15:57:17.846750: I tensorflow/compiler/xla/stream_executor/cuda/cuda_gpu_executor.cc:880] could not open file to read NUMA node: /sys/bus/pci/devices/0000:01:00.0/numa_node\n",
      "Your kernel may have been built without NUMA support.\n",
      "2024-06-23 15:57:17.846777: I tensorflow/compiler/xla/stream_executor/cuda/cuda_gpu_executor.cc:880] could not open file to read NUMA node: /sys/bus/pci/devices/0000:01:00.0/numa_node\n",
      "Your kernel may have been built without NUMA support.\n",
      "2024-06-23 15:57:17.846781: I tensorflow/core/common_runtime/gpu/gpu_device.cc:1977] Could not identify NUMA node of platform GPU id 0, defaulting to 0.  Your kernel may not have been built with NUMA support.\n",
      "2024-06-23 15:57:17.846796: I tensorflow/compiler/xla/stream_executor/cuda/cuda_gpu_executor.cc:880] could not open file to read NUMA node: /sys/bus/pci/devices/0000:01:00.0/numa_node\n",
      "Your kernel may have been built without NUMA support.\n",
      "2024-06-23 15:57:17.846809: I tensorflow/core/common_runtime/gpu/gpu_device.cc:1886] Created device /device:GPU:0 with 13499 MB memory:  -> device: 0, name: NVIDIA GeForce RTX 4080 SUPER, pci bus id: 0000:01:00.0, compute capability: 8.9\n",
      "2024-06-23 15:57:17.847396: I tensorflow/compiler/xla/stream_executor/cuda/cuda_gpu_executor.cc:880] could not open file to read NUMA node: /sys/bus/pci/devices/0000:01:00.0/numa_node\n",
      "Your kernel may have been built without NUMA support.\n",
      "2024-06-23 15:57:17.847418: I tensorflow/compiler/xla/stream_executor/cuda/cuda_gpu_executor.cc:880] could not open file to read NUMA node: /sys/bus/pci/devices/0000:01:00.0/numa_node\n",
      "Your kernel may have been built without NUMA support.\n",
      "2024-06-23 15:57:17.847427: I tensorflow/compiler/xla/stream_executor/cuda/cuda_gpu_executor.cc:880] could not open file to read NUMA node: /sys/bus/pci/devices/0000:01:00.0/numa_node\n",
      "Your kernel may have been built without NUMA support.\n"
     ]
    }
   ],
   "source": [
    "import tensorflow as tf\n",
    "\n",
    "print(tf.test.gpu_device_name())\n",
    "\n",
    "print(tf.config.list_physical_devices('GPU'))"
   ]
  },
  {
   "cell_type": "code",
   "execution_count": 3,
   "metadata": {},
   "outputs": [
    {
     "name": "stdout",
     "output_type": "stream",
     "text": [
      "Defaulting to user installation because normal site-packages is not writeable\n",
      "Requirement already satisfied: scikit-learn in /home/likz/.local/lib/python3.10/site-packages (1.5.0)\n",
      "Requirement already satisfied: numpy>=1.19.5 in /home/likz/.local/lib/python3.10/site-packages (from scikit-learn) (1.24.0)\n",
      "Requirement already satisfied: scipy>=1.6.0 in /usr/lib/python3/dist-packages (from scikit-learn) (1.8.0)\n",
      "Requirement already satisfied: joblib>=1.2.0 in /home/likz/.local/lib/python3.10/site-packages (from scikit-learn) (1.4.2)\n",
      "Requirement already satisfied: threadpoolctl>=3.1.0 in /home/likz/.local/lib/python3.10/site-packages (from scikit-learn) (3.5.0)\n",
      "Defaulting to user installation because normal site-packages is not writeable\n",
      "Requirement already satisfied: numpy in /home/likz/.local/lib/python3.10/site-packages (1.24.0)\n",
      "Requirement already satisfied: pandas in /home/likz/.local/lib/python3.10/site-packages (2.2.2)\n",
      "Requirement already satisfied: pillow in /usr/lib/python3/dist-packages (9.0.1)\n",
      "Requirement already satisfied: python-dateutil>=2.8.2 in /home/likz/.local/lib/python3.10/site-packages (from pandas) (2.9.0.post0)\n",
      "Requirement already satisfied: pytz>=2020.1 in /usr/lib/python3/dist-packages (from pandas) (2022.1)\n",
      "Requirement already satisfied: tzdata>=2022.7 in /home/likz/.local/lib/python3.10/site-packages (from pandas) (2024.1)\n",
      "Requirement already satisfied: six>=1.5 in /usr/lib/python3/dist-packages (from python-dateutil>=2.8.2->pandas) (1.16.0)\n"
     ]
    }
   ],
   "source": [
    "# !pip3 install tensorflow\n",
    "!pip3 install scikit-learn\n",
    "!pip3 install numpy pandas pillow\n",
    "# !pip3 install tensorflow[and-cuda]==2.14.0"
   ]
  },
  {
   "cell_type": "code",
   "execution_count": 2,
   "metadata": {
    "id": "ncZ-DfqIe4sL"
   },
   "outputs": [],
   "source": [
    "# Import library\n",
    "import pandas as pd\n",
    "import numpy as np\n",
    "\n",
    "import os\n",
    "from PIL import Image\n",
    "\n",
    "import tensorflow as tf\n",
    "from sklearn.model_selection import train_test_split\n",
    "\n",
    "pd.set_option('display.max_column', None)"
   ]
  },
  {
   "cell_type": "code",
   "execution_count": 5,
   "metadata": {},
   "outputs": [],
   "source": [
    "#COLAB ENV\n",
    "\n",
    "IDENTITY_PATH = \"/content/MyDrive/MyDrive/iai/class_identity.txt\"\n",
    "LIST_ATTRIBUTE_PATH = \"/content/MyDrive/MyDrive/iai/list_attribute.csv\"\n",
    "IMAGES_PATH = \"/content/MyDrive/MyDrive/iai/images/Images\""
   ]
  },
  {
   "cell_type": "code",
   "execution_count": 3,
   "metadata": {},
   "outputs": [],
   "source": [
    "#LOCAL ENV\n",
    "\n",
    "IDENTITY_PATH = \"./class_identity.txt\"\n",
    "LIST_ATTRIBUTE_PATH = \"./list_attribute.csv\"\n",
    "IMAGES_PATH = \"./Images\""
   ]
  },
  {
   "cell_type": "code",
   "execution_count": 4,
   "metadata": {
    "colab": {
     "base_uri": "https://localhost:8080/"
    },
    "id": "mxtMfc2ffn4J",
    "outputId": "cb8b06f4-393a-4661-f2de-142222345ab2"
   },
   "outputs": [
    {
     "data": {
      "text/plain": [
       "(202599, 41)"
      ]
     },
     "execution_count": 4,
     "metadata": {},
     "output_type": "execute_result"
    }
   ],
   "source": [
    "# Read data list_attribute\n",
    "df = pd.read_csv(LIST_ATTRIBUTE_PATH)\n",
    "df.shape"
   ]
  },
  {
   "cell_type": "code",
   "execution_count": 5,
   "metadata": {
    "colab": {
     "base_uri": "https://localhost:8080/",
     "height": 226
    },
    "id": "Pz2O-PW2gS6h",
    "outputId": "897c136b-a190-47a6-ce36-5d05a7fa0bfa"
   },
   "outputs": [
    {
     "data": {
      "text/html": [
       "<div>\n",
       "<style scoped>\n",
       "    .dataframe tbody tr th:only-of-type {\n",
       "        vertical-align: middle;\n",
       "    }\n",
       "\n",
       "    .dataframe tbody tr th {\n",
       "        vertical-align: top;\n",
       "    }\n",
       "\n",
       "    .dataframe thead th {\n",
       "        text-align: right;\n",
       "    }\n",
       "</style>\n",
       "<table border=\"1\" class=\"dataframe\">\n",
       "  <thead>\n",
       "    <tr style=\"text-align: right;\">\n",
       "      <th></th>\n",
       "      <th>Nama_File</th>\n",
       "      <th>5_o_Clock_Shadow</th>\n",
       "      <th>Arched_Eyebrows</th>\n",
       "      <th>Attractive</th>\n",
       "      <th>Bags_Under_Eyes</th>\n",
       "      <th>Bald</th>\n",
       "      <th>Bangs</th>\n",
       "      <th>Big_Lips</th>\n",
       "      <th>Big_Nose</th>\n",
       "      <th>Black_Hair</th>\n",
       "      <th>Blond_Hair</th>\n",
       "      <th>Blurry</th>\n",
       "      <th>Brown_Hair</th>\n",
       "      <th>Bushy_Eyebrows</th>\n",
       "      <th>Chubby</th>\n",
       "      <th>Double_Chin</th>\n",
       "      <th>Eyeglasses</th>\n",
       "      <th>Goatee</th>\n",
       "      <th>Gray_Hair</th>\n",
       "      <th>Heavy_Makeup</th>\n",
       "      <th>High_Cheekbones</th>\n",
       "      <th>Male</th>\n",
       "      <th>Mouth_Slightly_Open</th>\n",
       "      <th>Mustache</th>\n",
       "      <th>Narrow_Eyes</th>\n",
       "      <th>No_Beard</th>\n",
       "      <th>Oval_Face</th>\n",
       "      <th>Pale_Skin</th>\n",
       "      <th>Pointy_Nose</th>\n",
       "      <th>Receding_Hairline</th>\n",
       "      <th>Rosy_Cheeks</th>\n",
       "      <th>Sideburns</th>\n",
       "      <th>Smiling</th>\n",
       "      <th>Straight_Hair</th>\n",
       "      <th>Wavy_Hair</th>\n",
       "      <th>Wearing_Earrings</th>\n",
       "      <th>Wearing_Hat</th>\n",
       "      <th>Wearing_Lipstick</th>\n",
       "      <th>Wearing_Necklace</th>\n",
       "      <th>Wearing_Necktie</th>\n",
       "      <th>Young</th>\n",
       "    </tr>\n",
       "  </thead>\n",
       "  <tbody>\n",
       "    <tr>\n",
       "      <th>0</th>\n",
       "      <td>000001.jpg</td>\n",
       "      <td>0</td>\n",
       "      <td>1</td>\n",
       "      <td>1</td>\n",
       "      <td>0</td>\n",
       "      <td>0</td>\n",
       "      <td>0</td>\n",
       "      <td>0</td>\n",
       "      <td>0</td>\n",
       "      <td>0</td>\n",
       "      <td>0</td>\n",
       "      <td>0</td>\n",
       "      <td>1</td>\n",
       "      <td>0</td>\n",
       "      <td>0</td>\n",
       "      <td>0</td>\n",
       "      <td>0</td>\n",
       "      <td>0</td>\n",
       "      <td>0</td>\n",
       "      <td>1</td>\n",
       "      <td>1</td>\n",
       "      <td>0</td>\n",
       "      <td>1</td>\n",
       "      <td>0</td>\n",
       "      <td>0</td>\n",
       "      <td>1</td>\n",
       "      <td>0</td>\n",
       "      <td>0</td>\n",
       "      <td>1</td>\n",
       "      <td>0</td>\n",
       "      <td>0</td>\n",
       "      <td>0</td>\n",
       "      <td>1</td>\n",
       "      <td>1</td>\n",
       "      <td>0</td>\n",
       "      <td>1</td>\n",
       "      <td>0</td>\n",
       "      <td>1</td>\n",
       "      <td>0</td>\n",
       "      <td>0</td>\n",
       "      <td>1.0</td>\n",
       "    </tr>\n",
       "    <tr>\n",
       "      <th>1</th>\n",
       "      <td>000002.jpg</td>\n",
       "      <td>0</td>\n",
       "      <td>0</td>\n",
       "      <td>0</td>\n",
       "      <td>1</td>\n",
       "      <td>0</td>\n",
       "      <td>0</td>\n",
       "      <td>0</td>\n",
       "      <td>1</td>\n",
       "      <td>0</td>\n",
       "      <td>0</td>\n",
       "      <td>0</td>\n",
       "      <td>1</td>\n",
       "      <td>0</td>\n",
       "      <td>0</td>\n",
       "      <td>0</td>\n",
       "      <td>0</td>\n",
       "      <td>0</td>\n",
       "      <td>0</td>\n",
       "      <td>0</td>\n",
       "      <td>1</td>\n",
       "      <td>0</td>\n",
       "      <td>1</td>\n",
       "      <td>0</td>\n",
       "      <td>0</td>\n",
       "      <td>1</td>\n",
       "      <td>0</td>\n",
       "      <td>0</td>\n",
       "      <td>0</td>\n",
       "      <td>0</td>\n",
       "      <td>0</td>\n",
       "      <td>0</td>\n",
       "      <td>1</td>\n",
       "      <td>0</td>\n",
       "      <td>0</td>\n",
       "      <td>0</td>\n",
       "      <td>0</td>\n",
       "      <td>0</td>\n",
       "      <td>0</td>\n",
       "      <td>0</td>\n",
       "      <td>1.0</td>\n",
       "    </tr>\n",
       "    <tr>\n",
       "      <th>2</th>\n",
       "      <td>000003.jpg</td>\n",
       "      <td>0</td>\n",
       "      <td>0</td>\n",
       "      <td>0</td>\n",
       "      <td>0</td>\n",
       "      <td>0</td>\n",
       "      <td>0</td>\n",
       "      <td>1</td>\n",
       "      <td>0</td>\n",
       "      <td>0</td>\n",
       "      <td>0</td>\n",
       "      <td>1</td>\n",
       "      <td>0</td>\n",
       "      <td>0</td>\n",
       "      <td>0</td>\n",
       "      <td>0</td>\n",
       "      <td>0</td>\n",
       "      <td>0</td>\n",
       "      <td>0</td>\n",
       "      <td>0</td>\n",
       "      <td>0</td>\n",
       "      <td>1</td>\n",
       "      <td>0</td>\n",
       "      <td>0</td>\n",
       "      <td>1</td>\n",
       "      <td>1</td>\n",
       "      <td>0</td>\n",
       "      <td>0</td>\n",
       "      <td>1</td>\n",
       "      <td>0</td>\n",
       "      <td>0</td>\n",
       "      <td>0</td>\n",
       "      <td>0</td>\n",
       "      <td>0</td>\n",
       "      <td>1</td>\n",
       "      <td>0</td>\n",
       "      <td>0</td>\n",
       "      <td>0</td>\n",
       "      <td>0</td>\n",
       "      <td>0</td>\n",
       "      <td>1.0</td>\n",
       "    </tr>\n",
       "    <tr>\n",
       "      <th>3</th>\n",
       "      <td>000004.jpg</td>\n",
       "      <td>0</td>\n",
       "      <td>0</td>\n",
       "      <td>1</td>\n",
       "      <td>0</td>\n",
       "      <td>0</td>\n",
       "      <td>0</td>\n",
       "      <td>0</td>\n",
       "      <td>0</td>\n",
       "      <td>0</td>\n",
       "      <td>0</td>\n",
       "      <td>0</td>\n",
       "      <td>0</td>\n",
       "      <td>0</td>\n",
       "      <td>0</td>\n",
       "      <td>0</td>\n",
       "      <td>0</td>\n",
       "      <td>0</td>\n",
       "      <td>0</td>\n",
       "      <td>0</td>\n",
       "      <td>0</td>\n",
       "      <td>0</td>\n",
       "      <td>0</td>\n",
       "      <td>0</td>\n",
       "      <td>0</td>\n",
       "      <td>1</td>\n",
       "      <td>0</td>\n",
       "      <td>0</td>\n",
       "      <td>1</td>\n",
       "      <td>0</td>\n",
       "      <td>0</td>\n",
       "      <td>0</td>\n",
       "      <td>0</td>\n",
       "      <td>1</td>\n",
       "      <td>0</td>\n",
       "      <td>1</td>\n",
       "      <td>0</td>\n",
       "      <td>1</td>\n",
       "      <td>1</td>\n",
       "      <td>0</td>\n",
       "      <td>1.0</td>\n",
       "    </tr>\n",
       "    <tr>\n",
       "      <th>4</th>\n",
       "      <td>000005.jpg</td>\n",
       "      <td>0</td>\n",
       "      <td>1</td>\n",
       "      <td>1</td>\n",
       "      <td>0</td>\n",
       "      <td>0</td>\n",
       "      <td>0</td>\n",
       "      <td>1</td>\n",
       "      <td>0</td>\n",
       "      <td>0</td>\n",
       "      <td>0</td>\n",
       "      <td>0</td>\n",
       "      <td>0</td>\n",
       "      <td>0</td>\n",
       "      <td>0</td>\n",
       "      <td>0</td>\n",
       "      <td>0</td>\n",
       "      <td>0</td>\n",
       "      <td>0</td>\n",
       "      <td>1</td>\n",
       "      <td>0</td>\n",
       "      <td>0</td>\n",
       "      <td>0</td>\n",
       "      <td>0</td>\n",
       "      <td>1</td>\n",
       "      <td>1</td>\n",
       "      <td>0</td>\n",
       "      <td>0</td>\n",
       "      <td>1</td>\n",
       "      <td>0</td>\n",
       "      <td>0</td>\n",
       "      <td>0</td>\n",
       "      <td>0</td>\n",
       "      <td>0</td>\n",
       "      <td>0</td>\n",
       "      <td>0</td>\n",
       "      <td>0</td>\n",
       "      <td>1</td>\n",
       "      <td>0</td>\n",
       "      <td>0</td>\n",
       "      <td>1.0</td>\n",
       "    </tr>\n",
       "  </tbody>\n",
       "</table>\n",
       "</div>"
      ],
      "text/plain": [
       "    Nama_File  5_o_Clock_Shadow   Arched_Eyebrows  Attractive  \\\n",
       "0  000001.jpg                  0                1           1   \n",
       "1  000002.jpg                  0                0           0   \n",
       "2  000003.jpg                  0                0           0   \n",
       "3  000004.jpg                  0                0           1   \n",
       "4  000005.jpg                  0                1           1   \n",
       "\n",
       "   Bags_Under_Eyes  Bald  Bangs  Big_Lips  Big_Nose  Black_Hair  Blond_Hair  \\\n",
       "0                0     0      0         0         0           0           0   \n",
       "1                1     0      0         0         1           0           0   \n",
       "2                0     0      0         1         0           0           0   \n",
       "3                0     0      0         0         0           0           0   \n",
       "4                0     0      0         1         0           0           0   \n",
       "\n",
       "   Blurry  Brown_Hair  Bushy_Eyebrows  Chubby  Double_Chin  Eyeglasses  \\\n",
       "0       0           1               0       0            0           0   \n",
       "1       0           1               0       0            0           0   \n",
       "2       1           0               0       0            0           0   \n",
       "3       0           0               0       0            0           0   \n",
       "4       0           0               0       0            0           0   \n",
       "\n",
       "   Goatee  Gray_Hair  Heavy_Makeup  High_Cheekbones  Male  \\\n",
       "0       0          0             1                1     0   \n",
       "1       0          0             0                1     0   \n",
       "2       0          0             0                0     1   \n",
       "3       0          0             0                0     0   \n",
       "4       0          0             1                0     0   \n",
       "\n",
       "   Mouth_Slightly_Open  Mustache  Narrow_Eyes  No_Beard  Oval_Face  Pale_Skin  \\\n",
       "0                    1         0            0         1          0          0   \n",
       "1                    1         0            0         1          0          0   \n",
       "2                    0         0            1         1          0          0   \n",
       "3                    0         0            0         1          0          0   \n",
       "4                    0         0            1         1          0          0   \n",
       "\n",
       "   Pointy_Nose  Receding_Hairline  Rosy_Cheeks  Sideburns  Smiling  \\\n",
       "0            1                  0            0          0        1   \n",
       "1            0                  0            0          0        1   \n",
       "2            1                  0            0          0        0   \n",
       "3            1                  0            0          0        0   \n",
       "4            1                  0            0          0        0   \n",
       "\n",
       "   Straight_Hair  Wavy_Hair  Wearing_Earrings  Wearing_Hat  Wearing_Lipstick  \\\n",
       "0              1          0                 1            0                 1   \n",
       "1              0          0                 0            0                 0   \n",
       "2              0          1                 0            0                 0   \n",
       "3              1          0                 1            0                 1   \n",
       "4              0          0                 0            0                 1   \n",
       "\n",
       "   Wearing_Necklace  Wearing_Necktie  Young  \n",
       "0                 0                0    1.0  \n",
       "1                 0                0    1.0  \n",
       "2                 0                0    1.0  \n",
       "3                 1                0    1.0  \n",
       "4                 0                0    1.0  "
      ]
     },
     "execution_count": 5,
     "metadata": {},
     "output_type": "execute_result"
    }
   ],
   "source": [
    "df.head()"
   ]
  },
  {
   "cell_type": "code",
   "execution_count": 6,
   "metadata": {
    "colab": {
     "base_uri": "https://localhost:8080/"
    },
    "id": "ugjXoUsGfnmB",
    "outputId": "745ef4fe-61a5-44a0-f99e-e97c73dead40"
   },
   "outputs": [
    {
     "data": {
      "text/plain": [
       "(202599, 2)"
      ]
     },
     "execution_count": 6,
     "metadata": {},
     "output_type": "execute_result"
    }
   ],
   "source": [
    "# Read data class_identity\n",
    "idn = pd.read_csv(IDENTITY_PATH, sep=' ', header=None)\n",
    "idn.shape"
   ]
  },
  {
   "cell_type": "code",
   "execution_count": 7,
   "metadata": {
    "colab": {
     "base_uri": "https://localhost:8080/",
     "height": 206
    },
    "id": "kiGpPqzCgUXx",
    "outputId": "e89ddd9a-ad39-41bf-a3bc-399702f66bae"
   },
   "outputs": [
    {
     "data": {
      "text/html": [
       "<div>\n",
       "<style scoped>\n",
       "    .dataframe tbody tr th:only-of-type {\n",
       "        vertical-align: middle;\n",
       "    }\n",
       "\n",
       "    .dataframe tbody tr th {\n",
       "        vertical-align: top;\n",
       "    }\n",
       "\n",
       "    .dataframe thead th {\n",
       "        text-align: right;\n",
       "    }\n",
       "</style>\n",
       "<table border=\"1\" class=\"dataframe\">\n",
       "  <thead>\n",
       "    <tr style=\"text-align: right;\">\n",
       "      <th></th>\n",
       "      <th>0</th>\n",
       "      <th>1</th>\n",
       "    </tr>\n",
       "  </thead>\n",
       "  <tbody>\n",
       "    <tr>\n",
       "      <th>0</th>\n",
       "      <td>000001.jpg</td>\n",
       "      <td>2880</td>\n",
       "    </tr>\n",
       "    <tr>\n",
       "      <th>1</th>\n",
       "      <td>000002.jpg</td>\n",
       "      <td>2937</td>\n",
       "    </tr>\n",
       "    <tr>\n",
       "      <th>2</th>\n",
       "      <td>000003.jpg</td>\n",
       "      <td>8692</td>\n",
       "    </tr>\n",
       "    <tr>\n",
       "      <th>3</th>\n",
       "      <td>000004.jpg</td>\n",
       "      <td>5805</td>\n",
       "    </tr>\n",
       "    <tr>\n",
       "      <th>4</th>\n",
       "      <td>000005.jpg</td>\n",
       "      <td>9295</td>\n",
       "    </tr>\n",
       "  </tbody>\n",
       "</table>\n",
       "</div>"
      ],
      "text/plain": [
       "            0     1\n",
       "0  000001.jpg  2880\n",
       "1  000002.jpg  2937\n",
       "2  000003.jpg  8692\n",
       "3  000004.jpg  5805\n",
       "4  000005.jpg  9295"
      ]
     },
     "execution_count": 7,
     "metadata": {},
     "output_type": "execute_result"
    }
   ],
   "source": [
    "idn.head()"
   ]
  },
  {
   "cell_type": "code",
   "execution_count": 8,
   "metadata": {
    "colab": {
     "base_uri": "https://localhost:8080/"
    },
    "id": "JI2Ye9dwfdod",
    "outputId": "3c7b6b3c-469a-478f-b170-c858fbd952e2"
   },
   "outputs": [
    {
     "data": {
      "text/plain": [
       "Male\n",
       "0    118165\n",
       "1     84434\n",
       "Name: count, dtype: int64"
      ]
     },
     "execution_count": 8,
     "metadata": {},
     "output_type": "execute_result"
    }
   ],
   "source": [
    "# Cek jumlah cewe dan cowo\n",
    "df['Male'].value_counts()"
   ]
  },
  {
   "cell_type": "code",
   "execution_count": 9,
   "metadata": {
    "colab": {
     "base_uri": "https://localhost:8080/"
    },
    "id": "pEVrFBVbfhbQ",
    "outputId": "f318e515-dec2-47ff-c08b-1729e1ee5bf7"
   },
   "outputs": [
    {
     "data": {
      "text/plain": [
       "202599"
      ]
     },
     "execution_count": 9,
     "metadata": {},
     "output_type": "execute_result"
    }
   ],
   "source": [
    "# Cek jumlah data di dataset csv\n",
    "file_list = df['Nama_File'].to_list()\n",
    "len(file_list)"
   ]
  },
  {
   "cell_type": "code",
   "execution_count": 10,
   "metadata": {
    "colab": {
     "base_uri": "https://localhost:8080/"
    },
    "id": "5R9v7xH3hA7-",
    "outputId": "f1cefc94-91c6-4d26-c562-433c81a3bc4b"
   },
   "outputs": [
    {
     "data": {
      "text/plain": [
       "5017"
      ]
     },
     "execution_count": 10,
     "metadata": {},
     "output_type": "execute_result"
    }
   ],
   "source": [
    "# Cek jumlah data di folder images\n",
    "folder_list = os.listdir(IMAGES_PATH)\n",
    "len(folder_list)"
   ]
  },
  {
   "cell_type": "code",
   "execution_count": 11,
   "metadata": {
    "colab": {
     "base_uri": "https://localhost:8080/"
    },
    "id": "JCLoVOsviiKg",
    "outputId": "5aa76256-c674-4f3d-f956-e9eeda283101"
   },
   "outputs": [
    {
     "name": "stdout",
     "output_type": "stream",
     "text": [
      "5000\n"
     ]
    }
   ],
   "source": [
    "# Cek kesesuaian jumlah data di folder images dan di dataset\n",
    "set_file = set(file_list)\n",
    "set_folder = set(folder_list)\n",
    "ada = []\n",
    "for i in set_file:\n",
    "  if i in set_folder:\n",
    "    ada.append(i)\n",
    "print(len(ada))"
   ]
  },
  {
   "cell_type": "code",
   "execution_count": 12,
   "metadata": {
    "colab": {
     "base_uri": "https://localhost:8080/"
    },
    "id": "HYNKgwnAj7Fz",
    "outputId": "4d64ed75-3538-416e-d613-72f764cf8349"
   },
   "outputs": [
    {
     "name": "stdout",
     "output_type": "stream",
     "text": [
      "['182793(1).jpg', '182809(1).jpg', '182912(1).jpg', '182943(1).jpg', '183005(1).jpg', '183018(1).jpg', '183050(1).jpg', '183111(1).jpg', '183121(1).jpg', '183145(1).jpg', '189132(1).jpg', '189297(1).jpg', '189324(1).jpg', '189512(1).jpg', '189513(1).jpg', '189581(1).jpg', '189651(1).jpg']\n"
     ]
    }
   ],
   "source": [
    "# Cek 17 data yang tidak ada pada dataset\n",
    "tmp = os.listdir(IMAGES_PATH)\n",
    "tidak_ada = []\n",
    "for i in tmp:\n",
    "    if i not in ada:\n",
    "      tidak_ada.append(i)\n",
    "print(tidak_ada)"
   ]
  },
  {
   "cell_type": "code",
   "execution_count": 13,
   "metadata": {
    "colab": {
     "base_uri": "https://localhost:8080/"
    },
    "id": "GFDn6mq1jSqk",
    "outputId": "1d3e1f06-9e28-4030-a6ef-62a5ec6c81a0"
   },
   "outputs": [
    {
     "data": {
      "text/plain": [
       "(5000, 41)"
      ]
     },
     "execution_count": 13,
     "metadata": {},
     "output_type": "execute_result"
    }
   ],
   "source": [
    "# Membuat dataframe baru untuk 5000 data (semua fitur)\n",
    "df_final = df[df['Nama_File'].isin(ada)].reset_index(drop=True)\n",
    "df_final.shape\n",
    "\n",
    "## Kalau mau disave\n",
    "# df_final.to_csv('df_final.csv')"
   ]
  },
  {
   "cell_type": "code",
   "execution_count": 14,
   "metadata": {
    "colab": {
     "base_uri": "https://localhost:8080/",
     "height": 226
    },
    "id": "Jb7I-v11my6F",
    "outputId": "1a432254-9ed6-43a4-e92b-274b20f54fbe"
   },
   "outputs": [
    {
     "data": {
      "text/html": [
       "<div>\n",
       "<style scoped>\n",
       "    .dataframe tbody tr th:only-of-type {\n",
       "        vertical-align: middle;\n",
       "    }\n",
       "\n",
       "    .dataframe tbody tr th {\n",
       "        vertical-align: top;\n",
       "    }\n",
       "\n",
       "    .dataframe thead th {\n",
       "        text-align: right;\n",
       "    }\n",
       "</style>\n",
       "<table border=\"1\" class=\"dataframe\">\n",
       "  <thead>\n",
       "    <tr style=\"text-align: right;\">\n",
       "      <th></th>\n",
       "      <th>Nama_File</th>\n",
       "      <th>5_o_Clock_Shadow</th>\n",
       "      <th>Arched_Eyebrows</th>\n",
       "      <th>Attractive</th>\n",
       "      <th>Bags_Under_Eyes</th>\n",
       "      <th>Bald</th>\n",
       "      <th>Bangs</th>\n",
       "      <th>Big_Lips</th>\n",
       "      <th>Big_Nose</th>\n",
       "      <th>Black_Hair</th>\n",
       "      <th>Blond_Hair</th>\n",
       "      <th>Blurry</th>\n",
       "      <th>Brown_Hair</th>\n",
       "      <th>Bushy_Eyebrows</th>\n",
       "      <th>Chubby</th>\n",
       "      <th>Double_Chin</th>\n",
       "      <th>Eyeglasses</th>\n",
       "      <th>Goatee</th>\n",
       "      <th>Gray_Hair</th>\n",
       "      <th>Heavy_Makeup</th>\n",
       "      <th>High_Cheekbones</th>\n",
       "      <th>Male</th>\n",
       "      <th>Mouth_Slightly_Open</th>\n",
       "      <th>Mustache</th>\n",
       "      <th>Narrow_Eyes</th>\n",
       "      <th>No_Beard</th>\n",
       "      <th>Oval_Face</th>\n",
       "      <th>Pale_Skin</th>\n",
       "      <th>Pointy_Nose</th>\n",
       "      <th>Receding_Hairline</th>\n",
       "      <th>Rosy_Cheeks</th>\n",
       "      <th>Sideburns</th>\n",
       "      <th>Smiling</th>\n",
       "      <th>Straight_Hair</th>\n",
       "      <th>Wavy_Hair</th>\n",
       "      <th>Wearing_Earrings</th>\n",
       "      <th>Wearing_Hat</th>\n",
       "      <th>Wearing_Lipstick</th>\n",
       "      <th>Wearing_Necklace</th>\n",
       "      <th>Wearing_Necktie</th>\n",
       "      <th>Young</th>\n",
       "    </tr>\n",
       "  </thead>\n",
       "  <tbody>\n",
       "    <tr>\n",
       "      <th>0</th>\n",
       "      <td>000051.jpg</td>\n",
       "      <td>1</td>\n",
       "      <td>0</td>\n",
       "      <td>0</td>\n",
       "      <td>1</td>\n",
       "      <td>1</td>\n",
       "      <td>0</td>\n",
       "      <td>0</td>\n",
       "      <td>1</td>\n",
       "      <td>0</td>\n",
       "      <td>0</td>\n",
       "      <td>0</td>\n",
       "      <td>0</td>\n",
       "      <td>0</td>\n",
       "      <td>1</td>\n",
       "      <td>1</td>\n",
       "      <td>0</td>\n",
       "      <td>0</td>\n",
       "      <td>1</td>\n",
       "      <td>0</td>\n",
       "      <td>0</td>\n",
       "      <td>1</td>\n",
       "      <td>0</td>\n",
       "      <td>0</td>\n",
       "      <td>0</td>\n",
       "      <td>0</td>\n",
       "      <td>0</td>\n",
       "      <td>0</td>\n",
       "      <td>0</td>\n",
       "      <td>1</td>\n",
       "      <td>0</td>\n",
       "      <td>0</td>\n",
       "      <td>0</td>\n",
       "      <td>0</td>\n",
       "      <td>0</td>\n",
       "      <td>0</td>\n",
       "      <td>0</td>\n",
       "      <td>0</td>\n",
       "      <td>0</td>\n",
       "      <td>0</td>\n",
       "      <td>0.0</td>\n",
       "    </tr>\n",
       "    <tr>\n",
       "      <th>1</th>\n",
       "      <td>000052.jpg</td>\n",
       "      <td>0</td>\n",
       "      <td>0</td>\n",
       "      <td>0</td>\n",
       "      <td>1</td>\n",
       "      <td>0</td>\n",
       "      <td>0</td>\n",
       "      <td>0</td>\n",
       "      <td>1</td>\n",
       "      <td>0</td>\n",
       "      <td>0</td>\n",
       "      <td>0</td>\n",
       "      <td>1</td>\n",
       "      <td>1</td>\n",
       "      <td>0</td>\n",
       "      <td>1</td>\n",
       "      <td>0</td>\n",
       "      <td>0</td>\n",
       "      <td>0</td>\n",
       "      <td>0</td>\n",
       "      <td>0</td>\n",
       "      <td>1</td>\n",
       "      <td>0</td>\n",
       "      <td>0</td>\n",
       "      <td>0</td>\n",
       "      <td>1</td>\n",
       "      <td>0</td>\n",
       "      <td>0</td>\n",
       "      <td>0</td>\n",
       "      <td>0</td>\n",
       "      <td>0</td>\n",
       "      <td>0</td>\n",
       "      <td>0</td>\n",
       "      <td>1</td>\n",
       "      <td>0</td>\n",
       "      <td>0</td>\n",
       "      <td>0</td>\n",
       "      <td>0</td>\n",
       "      <td>0</td>\n",
       "      <td>0</td>\n",
       "      <td>0.0</td>\n",
       "    </tr>\n",
       "    <tr>\n",
       "      <th>2</th>\n",
       "      <td>000065.jpg</td>\n",
       "      <td>0</td>\n",
       "      <td>0</td>\n",
       "      <td>0</td>\n",
       "      <td>0</td>\n",
       "      <td>0</td>\n",
       "      <td>0</td>\n",
       "      <td>0</td>\n",
       "      <td>0</td>\n",
       "      <td>1</td>\n",
       "      <td>0</td>\n",
       "      <td>0</td>\n",
       "      <td>0</td>\n",
       "      <td>0</td>\n",
       "      <td>0</td>\n",
       "      <td>0</td>\n",
       "      <td>0</td>\n",
       "      <td>0</td>\n",
       "      <td>0</td>\n",
       "      <td>0</td>\n",
       "      <td>0</td>\n",
       "      <td>1</td>\n",
       "      <td>1</td>\n",
       "      <td>0</td>\n",
       "      <td>0</td>\n",
       "      <td>1</td>\n",
       "      <td>0</td>\n",
       "      <td>0</td>\n",
       "      <td>0</td>\n",
       "      <td>0</td>\n",
       "      <td>0</td>\n",
       "      <td>0</td>\n",
       "      <td>1</td>\n",
       "      <td>1</td>\n",
       "      <td>0</td>\n",
       "      <td>0</td>\n",
       "      <td>0</td>\n",
       "      <td>0</td>\n",
       "      <td>0</td>\n",
       "      <td>0</td>\n",
       "      <td>1.0</td>\n",
       "    </tr>\n",
       "    <tr>\n",
       "      <th>3</th>\n",
       "      <td>000166.jpg</td>\n",
       "      <td>1</td>\n",
       "      <td>0</td>\n",
       "      <td>0</td>\n",
       "      <td>0</td>\n",
       "      <td>0</td>\n",
       "      <td>0</td>\n",
       "      <td>0</td>\n",
       "      <td>1</td>\n",
       "      <td>0</td>\n",
       "      <td>0</td>\n",
       "      <td>0</td>\n",
       "      <td>0</td>\n",
       "      <td>0</td>\n",
       "      <td>0</td>\n",
       "      <td>0</td>\n",
       "      <td>0</td>\n",
       "      <td>1</td>\n",
       "      <td>0</td>\n",
       "      <td>0</td>\n",
       "      <td>0</td>\n",
       "      <td>1</td>\n",
       "      <td>0</td>\n",
       "      <td>0</td>\n",
       "      <td>0</td>\n",
       "      <td>0</td>\n",
       "      <td>0</td>\n",
       "      <td>0</td>\n",
       "      <td>0</td>\n",
       "      <td>0</td>\n",
       "      <td>0</td>\n",
       "      <td>1</td>\n",
       "      <td>0</td>\n",
       "      <td>0</td>\n",
       "      <td>0</td>\n",
       "      <td>0</td>\n",
       "      <td>1</td>\n",
       "      <td>0</td>\n",
       "      <td>0</td>\n",
       "      <td>0</td>\n",
       "      <td>0.0</td>\n",
       "    </tr>\n",
       "    <tr>\n",
       "      <th>4</th>\n",
       "      <td>000198.jpg</td>\n",
       "      <td>0</td>\n",
       "      <td>1</td>\n",
       "      <td>1</td>\n",
       "      <td>0</td>\n",
       "      <td>0</td>\n",
       "      <td>0</td>\n",
       "      <td>0</td>\n",
       "      <td>0</td>\n",
       "      <td>0</td>\n",
       "      <td>0</td>\n",
       "      <td>0</td>\n",
       "      <td>1</td>\n",
       "      <td>0</td>\n",
       "      <td>0</td>\n",
       "      <td>0</td>\n",
       "      <td>0</td>\n",
       "      <td>0</td>\n",
       "      <td>0</td>\n",
       "      <td>1</td>\n",
       "      <td>1</td>\n",
       "      <td>0</td>\n",
       "      <td>0</td>\n",
       "      <td>0</td>\n",
       "      <td>0</td>\n",
       "      <td>1</td>\n",
       "      <td>0</td>\n",
       "      <td>0</td>\n",
       "      <td>0</td>\n",
       "      <td>0</td>\n",
       "      <td>0</td>\n",
       "      <td>0</td>\n",
       "      <td>0</td>\n",
       "      <td>0</td>\n",
       "      <td>0</td>\n",
       "      <td>0</td>\n",
       "      <td>0</td>\n",
       "      <td>1</td>\n",
       "      <td>0</td>\n",
       "      <td>0</td>\n",
       "      <td>1.0</td>\n",
       "    </tr>\n",
       "  </tbody>\n",
       "</table>\n",
       "</div>"
      ],
      "text/plain": [
       "    Nama_File  5_o_Clock_Shadow   Arched_Eyebrows  Attractive  \\\n",
       "0  000051.jpg                  1                0           0   \n",
       "1  000052.jpg                  0                0           0   \n",
       "2  000065.jpg                  0                0           0   \n",
       "3  000166.jpg                  1                0           0   \n",
       "4  000198.jpg                  0                1           1   \n",
       "\n",
       "   Bags_Under_Eyes  Bald  Bangs  Big_Lips  Big_Nose  Black_Hair  Blond_Hair  \\\n",
       "0                1     1      0         0         1           0           0   \n",
       "1                1     0      0         0         1           0           0   \n",
       "2                0     0      0         0         0           1           0   \n",
       "3                0     0      0         0         1           0           0   \n",
       "4                0     0      0         0         0           0           0   \n",
       "\n",
       "   Blurry  Brown_Hair  Bushy_Eyebrows  Chubby  Double_Chin  Eyeglasses  \\\n",
       "0       0           0               0       1            1           0   \n",
       "1       0           1               1       0            1           0   \n",
       "2       0           0               0       0            0           0   \n",
       "3       0           0               0       0            0           0   \n",
       "4       0           1               0       0            0           0   \n",
       "\n",
       "   Goatee  Gray_Hair  Heavy_Makeup  High_Cheekbones  Male  \\\n",
       "0       0          1             0                0     1   \n",
       "1       0          0             0                0     1   \n",
       "2       0          0             0                0     1   \n",
       "3       1          0             0                0     1   \n",
       "4       0          0             1                1     0   \n",
       "\n",
       "   Mouth_Slightly_Open  Mustache  Narrow_Eyes  No_Beard  Oval_Face  Pale_Skin  \\\n",
       "0                    0         0            0         0          0          0   \n",
       "1                    0         0            0         1          0          0   \n",
       "2                    1         0            0         1          0          0   \n",
       "3                    0         0            0         0          0          0   \n",
       "4                    0         0            0         1          0          0   \n",
       "\n",
       "   Pointy_Nose  Receding_Hairline  Rosy_Cheeks  Sideburns  Smiling  \\\n",
       "0            0                  1            0          0        0   \n",
       "1            0                  0            0          0        0   \n",
       "2            0                  0            0          0        1   \n",
       "3            0                  0            0          1        0   \n",
       "4            0                  0            0          0        0   \n",
       "\n",
       "   Straight_Hair  Wavy_Hair  Wearing_Earrings  Wearing_Hat  Wearing_Lipstick  \\\n",
       "0              0          0                 0            0                 0   \n",
       "1              1          0                 0            0                 0   \n",
       "2              1          0                 0            0                 0   \n",
       "3              0          0                 0            1                 0   \n",
       "4              0          0                 0            0                 1   \n",
       "\n",
       "   Wearing_Necklace  Wearing_Necktie  Young  \n",
       "0                 0                0    0.0  \n",
       "1                 0                0    0.0  \n",
       "2                 0                0    1.0  \n",
       "3                 0                0    0.0  \n",
       "4                 0                0    1.0  "
      ]
     },
     "execution_count": 14,
     "metadata": {},
     "output_type": "execute_result"
    }
   ],
   "source": [
    "df_final.head()"
   ]
  },
  {
   "cell_type": "code",
   "execution_count": 15,
   "metadata": {
    "colab": {
     "base_uri": "https://localhost:8080/"
    },
    "id": "0Ej7lt7Lmyys",
    "outputId": "98b4846b-a48c-4656-d141-42bdc3f062bb"
   },
   "outputs": [
    {
     "data": {
      "text/plain": [
       "(5000, 3)"
      ]
     },
     "execution_count": 15,
     "metadata": {},
     "output_type": "execute_result"
    }
   ],
   "source": [
    "# Membuat dataframe baru untuk 5000 data (hanya jenis kelamin)\n",
    "tmp = df_final.copy()\n",
    "tmp['Gender'] = tmp['Male'].replace({-1:'Female',1:'Male'})\n",
    "df_final_gender = tmp[['Nama_File','Male','Gender']]\n",
    "df_final_gender.shape\n",
    "\n",
    "## Kalau mau disave\n",
    "# df_final_gender.to_csv('df_final_gender.csv')"
   ]
  },
  {
   "cell_type": "code",
   "execution_count": 16,
   "metadata": {
    "colab": {
     "base_uri": "https://localhost:8080/",
     "height": 206
    },
    "id": "wxD-jqv9i_8-",
    "outputId": "f6b86a56-8b08-4993-9642-a4930ccde204"
   },
   "outputs": [
    {
     "data": {
      "text/html": [
       "<div>\n",
       "<style scoped>\n",
       "    .dataframe tbody tr th:only-of-type {\n",
       "        vertical-align: middle;\n",
       "    }\n",
       "\n",
       "    .dataframe tbody tr th {\n",
       "        vertical-align: top;\n",
       "    }\n",
       "\n",
       "    .dataframe thead th {\n",
       "        text-align: right;\n",
       "    }\n",
       "</style>\n",
       "<table border=\"1\" class=\"dataframe\">\n",
       "  <thead>\n",
       "    <tr style=\"text-align: right;\">\n",
       "      <th></th>\n",
       "      <th>Nama_File</th>\n",
       "      <th>Male</th>\n",
       "      <th>Gender</th>\n",
       "    </tr>\n",
       "  </thead>\n",
       "  <tbody>\n",
       "    <tr>\n",
       "      <th>0</th>\n",
       "      <td>000051.jpg</td>\n",
       "      <td>1</td>\n",
       "      <td>Male</td>\n",
       "    </tr>\n",
       "    <tr>\n",
       "      <th>1</th>\n",
       "      <td>000052.jpg</td>\n",
       "      <td>1</td>\n",
       "      <td>Male</td>\n",
       "    </tr>\n",
       "    <tr>\n",
       "      <th>2</th>\n",
       "      <td>000065.jpg</td>\n",
       "      <td>1</td>\n",
       "      <td>Male</td>\n",
       "    </tr>\n",
       "    <tr>\n",
       "      <th>3</th>\n",
       "      <td>000166.jpg</td>\n",
       "      <td>1</td>\n",
       "      <td>Male</td>\n",
       "    </tr>\n",
       "    <tr>\n",
       "      <th>4</th>\n",
       "      <td>000198.jpg</td>\n",
       "      <td>0</td>\n",
       "      <td>0</td>\n",
       "    </tr>\n",
       "  </tbody>\n",
       "</table>\n",
       "</div>"
      ],
      "text/plain": [
       "    Nama_File  Male Gender\n",
       "0  000051.jpg     1   Male\n",
       "1  000052.jpg     1   Male\n",
       "2  000065.jpg     1   Male\n",
       "3  000166.jpg     1   Male\n",
       "4  000198.jpg     0      0"
      ]
     },
     "execution_count": 16,
     "metadata": {},
     "output_type": "execute_result"
    }
   ],
   "source": [
    "df_final_gender.head()"
   ]
  },
  {
   "cell_type": "markdown",
   "metadata": {
    "id": "4SZ5Bveso7Q1"
   },
   "source": [
    "### Pemrosesan Data Gambar"
   ]
  },
  {
   "cell_type": "code",
   "execution_count": 17,
   "metadata": {
    "id": "h0YugZeTpPGB"
   },
   "outputs": [],
   "source": [
    "# Fungsi untuk load gambar dan preprocess\n",
    "def load_and_preprocess_image(file_name, target_size=(128, 128)):\n",
    "    image_path = os.path.join(IMAGES_PATH, file_name)\n",
    "    image = Image.open(image_path)\n",
    "    image = image.resize(target_size)\n",
    "    image = np.array(image) / 255.0  # Normalize the image\n",
    "    return image"
   ]
  },
  {
   "cell_type": "code",
   "execution_count": 18,
   "metadata": {
    "colab": {
     "base_uri": "https://localhost:8080/"
    },
    "id": "G4ZHgt-1pd8k",
    "outputId": "68d39733-8e56-4181-f6df-01992a106ede"
   },
   "outputs": [
    {
     "data": {
      "text/plain": [
       "(128, 128, 3)"
      ]
     },
     "execution_count": 18,
     "metadata": {},
     "output_type": "execute_result"
    }
   ],
   "source": [
    "# Tes hasilnya\n",
    "load_and_preprocess_image('202320.jpg').shape"
   ]
  },
  {
   "cell_type": "code",
   "execution_count": 19,
   "metadata": {
    "id": "rEK_KR3rqVJl"
   },
   "outputs": [],
   "source": [
    "# Preprocess seluruh gambar\n",
    "images = []\n",
    "labels = []\n",
    "\n",
    "for index, row in df_final_gender.iterrows():\n",
    "    image = load_and_preprocess_image(row['Nama_File'])\n",
    "    images.append(image)\n",
    "    labels.append(row['Male'])"
   ]
  },
  {
   "cell_type": "code",
   "execution_count": 20,
   "metadata": {
    "colab": {
     "base_uri": "https://localhost:8080/"
    },
    "id": "KPsQo_-nq2OA",
    "outputId": "500c5654-4996-4816-c098-bc4cf50d6e4f"
   },
   "outputs": [
    {
     "name": "stdout",
     "output_type": "stream",
     "text": [
      "5000 5000\n"
     ]
    }
   ],
   "source": [
    "print(len(images), len(labels))"
   ]
  },
  {
   "cell_type": "code",
   "execution_count": 21,
   "metadata": {
    "id": "QuUA4aJ_pjuz"
   },
   "outputs": [],
   "source": [
    "# Split data train dan test\n",
    "X_train, X_test, y_train, y_test = train_test_split(images, labels, test_size=0.2, random_state=42)"
   ]
  },
  {
   "cell_type": "code",
   "execution_count": 22,
   "metadata": {
    "id": "ndL-XMLWq8iv"
   },
   "outputs": [
    {
     "name": "stderr",
     "output_type": "stream",
     "text": [
      "2024-06-23 15:58:06.396701: I tensorflow/compiler/xla/stream_executor/cuda/cuda_gpu_executor.cc:880] could not open file to read NUMA node: /sys/bus/pci/devices/0000:01:00.0/numa_node\n",
      "Your kernel may have been built without NUMA support.\n",
      "2024-06-23 15:58:06.396762: I tensorflow/compiler/xla/stream_executor/cuda/cuda_gpu_executor.cc:880] could not open file to read NUMA node: /sys/bus/pci/devices/0000:01:00.0/numa_node\n",
      "Your kernel may have been built without NUMA support.\n",
      "2024-06-23 15:58:06.396772: I tensorflow/compiler/xla/stream_executor/cuda/cuda_gpu_executor.cc:880] could not open file to read NUMA node: /sys/bus/pci/devices/0000:01:00.0/numa_node\n",
      "Your kernel may have been built without NUMA support.\n",
      "2024-06-23 15:58:06.396922: I tensorflow/compiler/xla/stream_executor/cuda/cuda_gpu_executor.cc:880] could not open file to read NUMA node: /sys/bus/pci/devices/0000:01:00.0/numa_node\n",
      "Your kernel may have been built without NUMA support.\n",
      "2024-06-23 15:58:06.396933: I tensorflow/core/common_runtime/gpu/gpu_device.cc:1977] Could not identify NUMA node of platform GPU id 0, defaulting to 0.  Your kernel may not have been built with NUMA support.\n",
      "2024-06-23 15:58:06.396946: I tensorflow/compiler/xla/stream_executor/cuda/cuda_gpu_executor.cc:880] could not open file to read NUMA node: /sys/bus/pci/devices/0000:01:00.0/numa_node\n",
      "Your kernel may have been built without NUMA support.\n",
      "2024-06-23 15:58:06.396957: I tensorflow/core/common_runtime/gpu/gpu_device.cc:1886] Created device /job:localhost/replica:0/task:0/device:GPU:0 with 13499 MB memory:  -> device: 0, name: NVIDIA GeForce RTX 4080 SUPER, pci bus id: 0000:01:00.0, compute capability: 8.9\n"
     ]
    }
   ],
   "source": [
    "# Convert ke TensorFlow datasets\n",
    "train_dataset = tf.data.Dataset.from_tensor_slices((X_train, y_train)).batch(32)\n",
    "test_dataset = tf.data.Dataset.from_tensor_slices((X_test, y_test)).batch(32)"
   ]
  },
  {
   "cell_type": "markdown",
   "metadata": {
    "id": "OfgxOA0frNSH"
   },
   "source": [
    "### Modelling"
   ]
  },
  {
   "cell_type": "code",
   "execution_count": 35,
   "metadata": {
    "id": "5MDAdtK2rDrp"
   },
   "outputs": [
    {
     "name": "stdout",
     "output_type": "stream",
     "text": [
      "Downloading data from https://storage.googleapis.com/tensorflow/keras-applications/vgg19/vgg19_weights_tf_dim_ordering_tf_kernels_notop.h5\n",
      "80134624/80134624 [==============================] - 18s 0us/step\n",
      "Epoch 1/10\n",
      "125/125 [==============================] - 8s 45ms/step - loss: 0.3323 - accuracy: 0.8390 - val_loss: 0.1793 - val_accuracy: 0.9340\n",
      "Epoch 2/10\n",
      "125/125 [==============================] - 5s 44ms/step - loss: 0.1595 - accuracy: 0.9333 - val_loss: 0.1789 - val_accuracy: 0.9370\n",
      "Epoch 3/10\n",
      "125/125 [==============================] - 6s 44ms/step - loss: 0.1126 - accuracy: 0.9580 - val_loss: 0.1476 - val_accuracy: 0.9460\n",
      "Epoch 4/10\n",
      "125/125 [==============================] - 5s 44ms/step - loss: 0.0703 - accuracy: 0.9775 - val_loss: 0.1161 - val_accuracy: 0.9520\n",
      "Epoch 5/10\n",
      "125/125 [==============================] - 5s 44ms/step - loss: 0.0427 - accuracy: 0.9877 - val_loss: 0.1294 - val_accuracy: 0.9610\n",
      "Epoch 6/10\n",
      "125/125 [==============================] - 6s 44ms/step - loss: 0.0374 - accuracy: 0.9877 - val_loss: 0.1274 - val_accuracy: 0.9600\n",
      "Epoch 7/10\n",
      "125/125 [==============================] - 5s 44ms/step - loss: 0.0374 - accuracy: 0.9865 - val_loss: 0.1629 - val_accuracy: 0.9580\n",
      "Epoch 8/10\n",
      "125/125 [==============================] - 6s 45ms/step - loss: 0.0430 - accuracy: 0.9845 - val_loss: 0.1958 - val_accuracy: 0.9440\n",
      "Epoch 9/10\n",
      "125/125 [==============================] - 6s 45ms/step - loss: 0.0245 - accuracy: 0.9908 - val_loss: 0.2220 - val_accuracy: 0.9470\n",
      "Epoch 10/10\n",
      "125/125 [==============================] - 6s 45ms/step - loss: 0.0211 - accuracy: 0.9923 - val_loss: 0.1458 - val_accuracy: 0.9610\n",
      "57.47523355484009\n"
     ]
    }
   ],
   "source": [
    "# Modelling menggunakan ResNet50 (sesuaikan)\n",
    "import os\n",
    "import time\n",
    "os.environ['TF_ENABLE_ONEDNN_OPTS'] = '0'\n",
    "from tensorflow.keras.applications import VGG16,VGG19\n",
    "from tensorflow.keras.models import Model\n",
    "from tensorflow.keras.layers import Dense, GlobalAveragePooling2D\n",
    "from tensorflow.keras.optimizers import Adam\n",
    "\n",
    "\n",
    "base_model = VGG19(weights='imagenet', include_top=False, input_shape=(128, 128, 3))\n",
    "\n",
    "x = base_model.output\n",
    "x = GlobalAveragePooling2D()(x)\n",
    "x = Dense(1024, activation='relu')(x)\n",
    "predictions = Dense(1, activation='sigmoid')(x)\n",
    "\n",
    "\n",
    "model_resnet = Model(inputs=base_model.input, outputs=predictions)\n",
    "\n",
    "\n",
    "for layer in base_model.layers:\n",
    "    layer.trainable = False\n",
    "\n",
    "\n",
    "# model_resnet.compile(optimizer=Adam(), loss='binary_crossentropy', metrics=['accuracy'])\n",
    "\n",
    "\n",
    "# history_resnet = model_resnet.fit(train_dataset, validation_data=test_dataset, epochs=10)\n",
    "\n",
    "\n",
    "for layer in base_model.layers[-50:]:\n",
    "    layer.trainable = True\n",
    "\n",
    "\n",
    "model_resnet.compile(optimizer=Adam(1e-5), loss='binary_crossentropy', metrics=['accuracy'])\n",
    "\n",
    "start = time.time()\n",
    "history_resnet = model_resnet.fit(train_dataset, validation_data=test_dataset, epochs=10)\n",
    "end = time.time()\n",
    "print(end - start)"
   ]
  },
  {
   "cell_type": "code",
   "execution_count": 38,
   "metadata": {},
   "outputs": [
    {
     "name": "stdout",
     "output_type": "stream",
     "text": [
      "1/1 [==============================] - 1s 912ms/step\n",
      "File: cew1.jpeg, Predicted Gender: Female\n",
      "File: cew2.jpg, Predicted Gender: Female\n",
      "File: cew3.jpeg, Predicted Gender: Female\n",
      "File: cew4.jpg, Predicted Gender: Female\n",
      "File: cew5.jpg, Predicted Gender: Female\n",
      "File: cow1.jpg, Predicted Gender: Male\n",
      "File: cow2.jpeg, Predicted Gender: Male\n",
      "File: cow3.jpeg, Predicted Gender: Male\n",
      "File: cow4.jpg, Predicted Gender: Male\n",
      "File: cow5.jpeg, Predicted Gender: Female\n",
      "\n",
      "Total prediction time: 0.9398868083953857 seconds\n"
     ]
    }
   ],
   "source": [
    "# Load model yang telah dilatih\n",
    "# model = tf.keras.models.load_model('vgg16_model.h5')\n",
    "\n",
    "test_folder_path = './test' #(sesuaikan aja)\n",
    "\n",
    "import time\n",
    "\n",
    "# List untuk menyimpan gambar dan nama file\n",
    "test_images = []\n",
    "test_filenames = []\n",
    "\n",
    "def load_and_preprocess_test_image(file_name, target_size=(128, 128)):\n",
    "    image_path = os.path.join(test_folder_path, file_name)\n",
    "    image = Image.open(image_path)\n",
    "    image = image.resize(target_size)\n",
    "    image = np.array(image) / 255.0  # Normalisasi gambar\n",
    "    return image\n",
    "\n",
    "# Loop untuk load dan preprocess gambar di folder Test\n",
    "for filename in os.listdir(test_folder_path):\n",
    "    image = load_and_preprocess_test_image(filename)\n",
    "    test_images.append(image)\n",
    "    test_filenames.append(filename)\n",
    "\n",
    "# Konversi ke numpy array\n",
    "test_images = np.array(test_images)\n",
    "\n",
    "# Prediksi\n",
    "start_time = time.time()\n",
    "predictions = model_resnet.predict(test_images)\n",
    "end_time = time.time()\n",
    "\n",
    "# Menampilkan hasil prediksi\n",
    "for i in range(len(test_filenames)):\n",
    "    gender = 'Male' if predictions[i] > 0.5 else 'Female'\n",
    "    print(f\"File: {test_filenames[i]}, Predicted Gender: {gender}\")\n",
    "\n",
    "print()\n",
    "print(f\"Total prediction time: {end_time - start_time} seconds\")"
   ]
  },
  {
   "cell_type": "markdown",
   "metadata": {
    "id": "h_u2jFLlr_iS"
   },
   "source": [
    "###### sementara sampai sini dulu"
   ]
  },
  {
   "cell_type": "code",
   "execution_count": 26,
   "metadata": {},
   "outputs": [
    {
     "data": {
      "image/png": "[encoded data removed]",
      "text/plain": [
       "<Figure size 432x288 with 1 Axes>"
      ]
     },
     "metadata": {
      "needs_background": "light"
     },
     "output_type": "display_data"
    }
   ],
   "source": [
    "import matplotlib.pyplot as plt\n",
    "plt.plot(history_resnet.history['accuracy'], label='train acc')\n",
    "plt.plot(history_resnet.history['val_accuracy'], label='val acc')\n",
    "plt.legend()\n",
    "plt.savefig('plot.jpg')\n",
    "plt.show()"
   ]
  },
  {
   "cell_type": "code",
   "execution_count": 37,
   "metadata": {},
   "outputs": [
    {
     "name": "stdout",
     "output_type": "stream",
     "text": [
      "Downloading data from https://storage.googleapis.com/tensorflow/keras-applications/resnet/resnet101v2_weights_tf_dim_ordering_tf_kernels_notop.h5\n",
      "171317808/171317808 [==============================] - 38s 0us/step\n",
      "Epoch 1/10\n",
      "125/125 [==============================] - 27s 56ms/step - loss: 0.4823 - accuracy: 0.7713 - val_loss: 0.2925 - val_accuracy: 0.8880\n",
      "Epoch 2/10\n",
      "125/125 [==============================] - 6s 48ms/step - loss: 0.1254 - accuracy: 0.9815 - val_loss: 0.2479 - val_accuracy: 0.8960\n",
      "Epoch 3/10\n",
      "125/125 [==============================] - 6s 49ms/step - loss: 0.0443 - accuracy: 0.9990 - val_loss: 0.2399 - val_accuracy: 0.8990\n",
      "Epoch 4/10\n",
      "125/125 [==============================] - 6s 47ms/step - loss: 0.0196 - accuracy: 0.9998 - val_loss: 0.2394 - val_accuracy: 0.9040\n",
      "Epoch 5/10\n",
      "125/125 [==============================] - 6s 48ms/step - loss: 0.0104 - accuracy: 1.0000 - val_loss: 0.2422 - val_accuracy: 0.9070\n",
      "Epoch 6/10\n",
      "125/125 [==============================] - 6s 47ms/step - loss: 0.0064 - accuracy: 1.0000 - val_loss: 0.2438 - val_accuracy: 0.9090\n",
      "Epoch 7/10\n",
      "125/125 [==============================] - 6s 47ms/step - loss: 0.0043 - accuracy: 1.0000 - val_loss: 0.2462 - val_accuracy: 0.9090\n",
      "Epoch 8/10\n",
      "125/125 [==============================] - 6s 48ms/step - loss: 0.0030 - accuracy: 1.0000 - val_loss: 0.2483 - val_accuracy: 0.9090\n",
      "Epoch 9/10\n",
      "125/125 [==============================] - 6s 48ms/step - loss: 0.0023 - accuracy: 1.0000 - val_loss: 0.2510 - val_accuracy: 0.9110\n",
      "Epoch 10/10\n",
      "125/125 [==============================] - 6s 49ms/step - loss: 0.0018 - accuracy: 1.0000 - val_loss: 0.2535 - val_accuracy: 0.9130\n",
      "80.83985257148743\n"
     ]
    }
   ],
   "source": [
    "# Modelling menggunakan ResNet50 (sesuaikan)\n",
    "import os\n",
    "os.environ['TF_ENABLE_ONEDNN_OPTS'] = '0'\n",
    "from tensorflow.keras.applications import ResNet101V2\n",
    "from tensorflow.keras.models import Model\n",
    "from tensorflow.keras.layers import Dense, GlobalAveragePooling2D\n",
    "from tensorflow.keras.optimizers import Adam\n",
    "\n",
    "\n",
    "base_model = ResNet101V2(weights='imagenet', include_top=False, input_shape=(128, 128, 3))\n",
    "\n",
    "x = base_model.output\n",
    "x = GlobalAveragePooling2D()(x)\n",
    "x = Dense(1024, activation='relu')(x)\n",
    "predictions = Dense(1, activation='sigmoid')(x)\n",
    "\n",
    "\n",
    "model_resnet = Model(inputs=base_model.input, outputs=predictions)\n",
    "\n",
    "\n",
    "for layer in base_model.layers:\n",
    "    layer.trainable = False\n",
    "\n",
    "\n",
    "# model_resnet.compile(optimizer=Adam(), loss='binary_crossentropy', metrics=['accuracy'])\n",
    "\n",
    "\n",
    "# history_resnet = model_resnet.fit(train_dataset, validation_data=test_dataset, epochs=10)\n",
    "\n",
    "\n",
    "for layer in base_model.layers:\n",
    "    layer.trainable = True\n",
    "\n",
    "\n",
    "model_resnet.compile(optimizer=Adam(1e-5), loss='binary_crossentropy', metrics=['accuracy'])\n",
    "\n",
    "start = time.time()\n",
    "history_resnet = model_resnet.fit(train_dataset, validation_data=test_dataset, epochs=10)\n",
    "end = time.time()\n",
    "print(end - start)"
   ]
  },
  {
   "cell_type": "code",
   "execution_count": 40,
   "metadata": {},
   "outputs": [
    {
     "name": "stdout",
     "output_type": "stream",
     "text": [
      "780\n",
      "390\n",
      "Epoch 1/10\n",
      "125/125 [==============================] - 26s 63ms/step - loss: 0.5559 - accuracy: 0.7107 - val_loss: 0.4250 - val_accuracy: 0.7680\n",
      "Epoch 2/10\n",
      "125/125 [==============================] - 6s 51ms/step - loss: 0.2719 - accuracy: 0.9175 - val_loss: 0.3260 - val_accuracy: 0.8640\n",
      "Epoch 3/10\n",
      "125/125 [==============================] - 6s 49ms/step - loss: 0.0928 - accuracy: 0.9768 - val_loss: 0.3592 - val_accuracy: 0.8550\n",
      "Epoch 4/10\n",
      "125/125 [==============================] - 6s 50ms/step - loss: 0.0272 - accuracy: 0.9945 - val_loss: 0.4287 - val_accuracy: 0.8480\n",
      "Epoch 5/10\n",
      "125/125 [==============================] - 6s 49ms/step - loss: 0.0093 - accuracy: 0.9987 - val_loss: 0.4780 - val_accuracy: 0.8450\n",
      "Epoch 6/10\n",
      "125/125 [==============================] - 6s 50ms/step - loss: 0.0035 - accuracy: 0.9995 - val_loss: 0.5149 - val_accuracy: 0.8460\n",
      "Epoch 7/10\n",
      "125/125 [==============================] - 6s 49ms/step - loss: 0.0016 - accuracy: 1.0000 - val_loss: 0.5451 - val_accuracy: 0.8430\n",
      "Epoch 8/10\n",
      "125/125 [==============================] - 6s 49ms/step - loss: 0.0010 - accuracy: 1.0000 - val_loss: 0.5675 - val_accuracy: 0.8450\n",
      "Epoch 9/10\n",
      "125/125 [==============================] - 6s 49ms/step - loss: 7.4698e-04 - accuracy: 1.0000 - val_loss: 0.5856 - val_accuracy: 0.8450\n",
      "Epoch 10/10\n",
      "125/125 [==============================] - 7s 51ms/step - loss: 5.7822e-04 - accuracy: 1.0000 - val_loss: 0.6020 - val_accuracy: 0.8440\n",
      "85.62718534469604\n"
     ]
    }
   ],
   "source": [
    "# Modelling menggunakan ResNet50 (sesuaikan)\n",
    "import os\n",
    "os.environ['TF_ENABLE_ONEDNN_OPTS'] = '0'\n",
    "from tensorflow.keras.applications import InceptionResNetV2\n",
    "from tensorflow.keras.models import Model\n",
    "from tensorflow.keras.layers import Dense, GlobalAveragePooling2D\n",
    "from tensorflow.keras.optimizers import Adam\n",
    "\n",
    "\n",
    "base_model = InceptionResNetV2(weights='imagenet', include_top=False, input_shape=(128, 128, 3))\n",
    "\n",
    "x = base_model.output\n",
    "x = GlobalAveragePooling2D()(x)\n",
    "x = Dense(1024, activation='relu')(x)\n",
    "predictions = Dense(1, activation='sigmoid')(x)\n",
    "\n",
    "\n",
    "model = Model(inputs=base_model.input, outputs=predictions)\n",
    "\n",
    "for layer in base_model.layers:\n",
    "    layer.trainable = False\n",
    "print(len(base_model.layers))\n",
    "length = len(base_model.layers)\n",
    "print(len(base_model.layers[int(-(length/2)):]))\n",
    "# for layer in base_model.layers[int(-(length/2)):]:\n",
    "for layer in base_model.layers:\n",
    "    layer.trainable = True\n",
    "\n",
    "\n",
    "model.compile(optimizer=Adam(1e-5), loss='binary_crossentropy', metrics=['accuracy'])\n",
    "start = time.time()\n",
    "history = model.fit(train_dataset, validation_data=test_dataset, epochs=10)\n",
    "end = time.time()\n",
    "print(end - start)"
   ]
  },
  {
   "cell_type": "code",
   "execution_count": null,
   "metadata": {},
   "outputs": [],
   "source": []
  }
 ],
 "metadata": {
  "colab": {
   "provenance": []
  },
  "kernelspec": {
   "display_name": "Python 3 (ipykernel)",
   "language": "python",
   "name": "python3"
  },
  "language_info": {
   "codemirror_mode": {
    "name": "ipython",
    "version": 3
   },
   "file_extension": ".py",
   "mimetype": "text/x-python",
   "name": "python",
   "nbconvert_exporter": "python",
   "pygments_lexer": "ipython3",
   "version": "3.10.12"
  }
 },
 "nbformat": 4,
 "nbformat_minor": 4
}
